{
 "cells": [
  {
   "cell_type": "code",
   "execution_count": 12,
   "metadata": {
    "collapsed": true,
    "ExecuteTime": {
     "end_time": "2024-01-11T18:22:24.123984964Z",
     "start_time": "2024-01-11T18:22:24.082611477Z"
    }
   },
   "outputs": [
    {
     "data": {
      "text/plain": "   likes  retweets  replies  is_viral  to_delete\n0     10         2        0         0          0\n1    123        14        5         1          0\n2    203        34       29         1          0\n3     23         2        3         0          0\n4      1         0        0         0          1",
      "text/html": "<div>\n<style scoped>\n    .dataframe tbody tr th:only-of-type {\n        vertical-align: middle;\n    }\n\n    .dataframe tbody tr th {\n        vertical-align: top;\n    }\n\n    .dataframe thead th {\n        text-align: right;\n    }\n</style>\n<table border=\"1\" class=\"dataframe\">\n  <thead>\n    <tr style=\"text-align: right;\">\n      <th></th>\n      <th>likes</th>\n      <th>retweets</th>\n      <th>replies</th>\n      <th>is_viral</th>\n      <th>to_delete</th>\n    </tr>\n  </thead>\n  <tbody>\n    <tr>\n      <th>0</th>\n      <td>10</td>\n      <td>2</td>\n      <td>0</td>\n      <td>0</td>\n      <td>0</td>\n    </tr>\n    <tr>\n      <th>1</th>\n      <td>123</td>\n      <td>14</td>\n      <td>5</td>\n      <td>1</td>\n      <td>0</td>\n    </tr>\n    <tr>\n      <th>2</th>\n      <td>203</td>\n      <td>34</td>\n      <td>29</td>\n      <td>1</td>\n      <td>0</td>\n    </tr>\n    <tr>\n      <th>3</th>\n      <td>23</td>\n      <td>2</td>\n      <td>3</td>\n      <td>0</td>\n      <td>0</td>\n    </tr>\n    <tr>\n      <th>4</th>\n      <td>1</td>\n      <td>0</td>\n      <td>0</td>\n      <td>0</td>\n      <td>1</td>\n    </tr>\n  </tbody>\n</table>\n</div>"
     },
     "execution_count": 12,
     "metadata": {},
     "output_type": "execute_result"
    }
   ],
   "source": [
    "import pandas as pd\n",
    "import numpy as np\n",
    "from sklearn.model_selection import train_test_split\n",
    "from sklearn.ensemble import RandomForestClassifier\n",
    "from sklearn.metrics import accuracy_score\n",
    "\n",
    "df = pd.read_csv('../../data/tweets-viral-delete.csv')\n",
    "df.head()"
   ]
  },
  {
   "cell_type": "code",
   "execution_count": 13,
   "outputs": [],
   "source": [
    "def categorize(row):\n",
    "  if row['is_viral'] == 1:\n",
    "    return 'Viral'\n",
    "  elif row['to_delete'] == 1:\n",
    "    return 'To Delete'\n",
    "  else:\n",
    "    return 'Normal'"
   ],
   "metadata": {
    "collapsed": false,
    "ExecuteTime": {
     "end_time": "2024-01-11T18:22:28.669947857Z",
     "start_time": "2024-01-11T18:22:28.663532900Z"
    }
   }
  },
  {
   "cell_type": "code",
   "execution_count": 14,
   "outputs": [
    {
     "data": {
      "text/plain": "   likes  retweets  replies   category\n0     10         2        0     Normal\n1    123        14        5      Viral\n2    203        34       29      Viral\n3     23         2        3     Normal\n4      1         0        0  To Delete",
      "text/html": "<div>\n<style scoped>\n    .dataframe tbody tr th:only-of-type {\n        vertical-align: middle;\n    }\n\n    .dataframe tbody tr th {\n        vertical-align: top;\n    }\n\n    .dataframe thead th {\n        text-align: right;\n    }\n</style>\n<table border=\"1\" class=\"dataframe\">\n  <thead>\n    <tr style=\"text-align: right;\">\n      <th></th>\n      <th>likes</th>\n      <th>retweets</th>\n      <th>replies</th>\n      <th>category</th>\n    </tr>\n  </thead>\n  <tbody>\n    <tr>\n      <th>0</th>\n      <td>10</td>\n      <td>2</td>\n      <td>0</td>\n      <td>Normal</td>\n    </tr>\n    <tr>\n      <th>1</th>\n      <td>123</td>\n      <td>14</td>\n      <td>5</td>\n      <td>Viral</td>\n    </tr>\n    <tr>\n      <th>2</th>\n      <td>203</td>\n      <td>34</td>\n      <td>29</td>\n      <td>Viral</td>\n    </tr>\n    <tr>\n      <th>3</th>\n      <td>23</td>\n      <td>2</td>\n      <td>3</td>\n      <td>Normal</td>\n    </tr>\n    <tr>\n      <th>4</th>\n      <td>1</td>\n      <td>0</td>\n      <td>0</td>\n      <td>To Delete</td>\n    </tr>\n  </tbody>\n</table>\n</div>"
     },
     "execution_count": 14,
     "metadata": {},
     "output_type": "execute_result"
    }
   ],
   "source": [
    "df['category'] = df.apply(categorize, axis=1)\n",
    "df = df.drop('is_viral', axis=1)\n",
    "df = df.drop('to_delete', axis=1)\n",
    "df.head()"
   ],
   "metadata": {
    "collapsed": false,
    "ExecuteTime": {
     "end_time": "2024-01-11T18:22:30.072027196Z",
     "start_time": "2024-01-11T18:22:30.066658943Z"
    }
   }
  },
  {
   "cell_type": "code",
   "execution_count": 15,
   "outputs": [
    {
     "data": {
      "text/plain": "category\nNormal       58\nViral        26\nTo Delete    16\nName: count, dtype: int64"
     },
     "execution_count": 15,
     "metadata": {},
     "output_type": "execute_result"
    }
   ],
   "source": [
    "df['category'].value_counts()"
   ],
   "metadata": {
    "collapsed": false,
    "ExecuteTime": {
     "end_time": "2024-01-11T18:23:08.272588252Z",
     "start_time": "2024-01-11T18:23:08.268185659Z"
    }
   }
  },
  {
   "cell_type": "code",
   "execution_count": 16,
   "outputs": [
    {
     "data": {
      "text/plain": "array(['Normal', 'Normal', 'Viral', 'Normal', 'Normal', 'Normal',\n       'Normal', 'To Delete', 'Normal', 'Normal', 'Normal', 'To Delete',\n       'Normal', 'Normal', 'Normal', 'Viral', 'Normal', 'Viral', 'Normal',\n       'Viral'], dtype=object)"
     },
     "execution_count": 16,
     "metadata": {},
     "output_type": "execute_result"
    }
   ],
   "source": [
    "x = df.iloc[:, :-1].values\n",
    "y = df.iloc[:, -1].values\n",
    "x_train, x_test, y_train, y_test = train_test_split(x, y, test_size=0.2, random_state=0)\n",
    "\n",
    "clf = RandomForestClassifier()\n",
    "clf.fit(x_train, y_train)\n",
    "y_pred = clf.predict(x_test)\n",
    "y_pred"
   ],
   "metadata": {
    "collapsed": false,
    "ExecuteTime": {
     "end_time": "2024-01-11T18:26:30.015557215Z",
     "start_time": "2024-01-11T18:26:29.925064538Z"
    }
   }
  },
  {
   "cell_type": "code",
   "execution_count": 17,
   "outputs": [
    {
     "data": {
      "text/plain": "0.95"
     },
     "execution_count": 17,
     "metadata": {},
     "output_type": "execute_result"
    }
   ],
   "source": [
    "accuracy_score(y_test, y_pred)"
   ],
   "metadata": {
    "collapsed": false,
    "ExecuteTime": {
     "end_time": "2024-01-11T18:27:25.925951137Z",
     "start_time": "2024-01-11T18:27:25.888472676Z"
    }
   }
  },
  {
   "cell_type": "code",
   "execution_count": 18,
   "outputs": [
    {
     "data": {
      "text/plain": "    likes  retweets  replies predicted_value real_value\n0      29         2        2          Normal     Normal\n1      65         4        2          Normal     Normal\n2     203        34       29           Viral      Viral\n3      28         0       10          Normal     Normal\n4      33         3        3          Normal     Normal\n5      50         5        5          Normal     Normal\n6       0         0       11          Normal  To Delete\n7       0         0        5       To Delete  To Delete\n8      39         3        9          Normal     Normal\n9      48         3       20          Normal     Normal\n10     15         2        0          Normal     Normal\n11      1         0        4       To Delete  To Delete\n12     34         1        1          Normal     Normal\n13     52        10        1          Normal     Normal\n14     38         4        4          Normal     Normal\n15    144        20        8           Viral      Viral\n16      9         1        1          Normal     Normal\n17    167        22       10           Viral      Viral\n18     11         2        4          Normal     Normal\n19    298        38       32           Viral      Viral",
      "text/html": "<div>\n<style scoped>\n    .dataframe tbody tr th:only-of-type {\n        vertical-align: middle;\n    }\n\n    .dataframe tbody tr th {\n        vertical-align: top;\n    }\n\n    .dataframe thead th {\n        text-align: right;\n    }\n</style>\n<table border=\"1\" class=\"dataframe\">\n  <thead>\n    <tr style=\"text-align: right;\">\n      <th></th>\n      <th>likes</th>\n      <th>retweets</th>\n      <th>replies</th>\n      <th>predicted_value</th>\n      <th>real_value</th>\n    </tr>\n  </thead>\n  <tbody>\n    <tr>\n      <th>0</th>\n      <td>29</td>\n      <td>2</td>\n      <td>2</td>\n      <td>Normal</td>\n      <td>Normal</td>\n    </tr>\n    <tr>\n      <th>1</th>\n      <td>65</td>\n      <td>4</td>\n      <td>2</td>\n      <td>Normal</td>\n      <td>Normal</td>\n    </tr>\n    <tr>\n      <th>2</th>\n      <td>203</td>\n      <td>34</td>\n      <td>29</td>\n      <td>Viral</td>\n      <td>Viral</td>\n    </tr>\n    <tr>\n      <th>3</th>\n      <td>28</td>\n      <td>0</td>\n      <td>10</td>\n      <td>Normal</td>\n      <td>Normal</td>\n    </tr>\n    <tr>\n      <th>4</th>\n      <td>33</td>\n      <td>3</td>\n      <td>3</td>\n      <td>Normal</td>\n      <td>Normal</td>\n    </tr>\n    <tr>\n      <th>5</th>\n      <td>50</td>\n      <td>5</td>\n      <td>5</td>\n      <td>Normal</td>\n      <td>Normal</td>\n    </tr>\n    <tr>\n      <th>6</th>\n      <td>0</td>\n      <td>0</td>\n      <td>11</td>\n      <td>Normal</td>\n      <td>To Delete</td>\n    </tr>\n    <tr>\n      <th>7</th>\n      <td>0</td>\n      <td>0</td>\n      <td>5</td>\n      <td>To Delete</td>\n      <td>To Delete</td>\n    </tr>\n    <tr>\n      <th>8</th>\n      <td>39</td>\n      <td>3</td>\n      <td>9</td>\n      <td>Normal</td>\n      <td>Normal</td>\n    </tr>\n    <tr>\n      <th>9</th>\n      <td>48</td>\n      <td>3</td>\n      <td>20</td>\n      <td>Normal</td>\n      <td>Normal</td>\n    </tr>\n    <tr>\n      <th>10</th>\n      <td>15</td>\n      <td>2</td>\n      <td>0</td>\n      <td>Normal</td>\n      <td>Normal</td>\n    </tr>\n    <tr>\n      <th>11</th>\n      <td>1</td>\n      <td>0</td>\n      <td>4</td>\n      <td>To Delete</td>\n      <td>To Delete</td>\n    </tr>\n    <tr>\n      <th>12</th>\n      <td>34</td>\n      <td>1</td>\n      <td>1</td>\n      <td>Normal</td>\n      <td>Normal</td>\n    </tr>\n    <tr>\n      <th>13</th>\n      <td>52</td>\n      <td>10</td>\n      <td>1</td>\n      <td>Normal</td>\n      <td>Normal</td>\n    </tr>\n    <tr>\n      <th>14</th>\n      <td>38</td>\n      <td>4</td>\n      <td>4</td>\n      <td>Normal</td>\n      <td>Normal</td>\n    </tr>\n    <tr>\n      <th>15</th>\n      <td>144</td>\n      <td>20</td>\n      <td>8</td>\n      <td>Viral</td>\n      <td>Viral</td>\n    </tr>\n    <tr>\n      <th>16</th>\n      <td>9</td>\n      <td>1</td>\n      <td>1</td>\n      <td>Normal</td>\n      <td>Normal</td>\n    </tr>\n    <tr>\n      <th>17</th>\n      <td>167</td>\n      <td>22</td>\n      <td>10</td>\n      <td>Viral</td>\n      <td>Viral</td>\n    </tr>\n    <tr>\n      <th>18</th>\n      <td>11</td>\n      <td>2</td>\n      <td>4</td>\n      <td>Normal</td>\n      <td>Normal</td>\n    </tr>\n    <tr>\n      <th>19</th>\n      <td>298</td>\n      <td>38</td>\n      <td>32</td>\n      <td>Viral</td>\n      <td>Viral</td>\n    </tr>\n  </tbody>\n</table>\n</div>"
     },
     "execution_count": 18,
     "metadata": {},
     "output_type": "execute_result"
    }
   ],
   "source": [
    "df_compare = pd.DataFrame(\n",
    "  data={\n",
    "    'likes': x_test[:,0],\n",
    "    'retweets': x_test[:,1],\n",
    "    'replies': x_test[:,2],\n",
    "    'predicted_value': y_pred,\n",
    "    'real_value': y_test\n",
    "  },\n",
    "  columns=['likes', 'retweets', 'replies', 'predicted_value', 'real_value']\n",
    ")\n",
    "df_compare\n"
   ],
   "metadata": {
    "collapsed": false,
    "ExecuteTime": {
     "end_time": "2024-01-11T18:32:56.948077492Z",
     "start_time": "2024-01-11T18:32:56.911133066Z"
    }
   }
  },
  {
   "cell_type": "code",
   "execution_count": null,
   "outputs": [],
   "source": [],
   "metadata": {
    "collapsed": false
   }
  }
 ],
 "metadata": {
  "kernelspec": {
   "display_name": "Python 3",
   "language": "python",
   "name": "python3"
  },
  "language_info": {
   "codemirror_mode": {
    "name": "ipython",
    "version": 2
   },
   "file_extension": ".py",
   "mimetype": "text/x-python",
   "name": "python",
   "nbconvert_exporter": "python",
   "pygments_lexer": "ipython2",
   "version": "2.7.6"
  }
 },
 "nbformat": 4,
 "nbformat_minor": 0
}
