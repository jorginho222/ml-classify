{
 "cells": [
  {
   "cell_type": "code",
   "execution_count": 8,
   "metadata": {
    "collapsed": true,
    "ExecuteTime": {
     "end_time": "2024-01-12T12:23:58.448883143Z",
     "start_time": "2024-01-12T12:23:58.441048802Z"
    }
   },
   "outputs": [],
   "source": [
    "# usual libraries\n",
    "import pandas as pd\n",
    "\n",
    "from sklearn.model_selection import  train_test_split\n",
    "from sklearn.ensemble import RandomForestClassifier\n",
    "from sklearn.feature_extraction.text import TfidfVectorizer\n",
    "from sklearn.metrics import accuracy_score\n",
    "\n",
    "# libraries for other algorithms\n",
    "from sklearn.neighbors import KNeighborsClassifier\n",
    "from sklearn.naive_bayes import MultinomialNB\n",
    "from sklearn.svm import LinearSVC\n",
    "from sklearn.linear_model import LogisticRegression"
   ]
  },
  {
   "cell_type": "code",
   "execution_count": 4,
   "outputs": [
    {
     "data": {
      "text/plain": "                                             Product Category\n0    Apple 13-inch MacBook Air (M1 CPU) 256GB - 2020   Laptop\n1    Apple 13-inch MacBook Air (M1 CPU) 512GB - 2020   Laptop\n2  Apple 13-inch MacBook Air with Retina display ...   Laptop\n3  Apple 13-inch MacBook Air with Retina display ...   Laptop\n4  Apple 13-inch MacBook Pro (1.4GHz quad-core CP...   Laptop",
      "text/html": "<div>\n<style scoped>\n    .dataframe tbody tr th:only-of-type {\n        vertical-align: middle;\n    }\n\n    .dataframe tbody tr th {\n        vertical-align: top;\n    }\n\n    .dataframe thead th {\n        text-align: right;\n    }\n</style>\n<table border=\"1\" class=\"dataframe\">\n  <thead>\n    <tr style=\"text-align: right;\">\n      <th></th>\n      <th>Product</th>\n      <th>Category</th>\n    </tr>\n  </thead>\n  <tbody>\n    <tr>\n      <th>0</th>\n      <td>Apple 13-inch MacBook Air (M1 CPU) 256GB - 2020</td>\n      <td>Laptop</td>\n    </tr>\n    <tr>\n      <th>1</th>\n      <td>Apple 13-inch MacBook Air (M1 CPU) 512GB - 2020</td>\n      <td>Laptop</td>\n    </tr>\n    <tr>\n      <th>2</th>\n      <td>Apple 13-inch MacBook Air with Retina display ...</td>\n      <td>Laptop</td>\n    </tr>\n    <tr>\n      <th>3</th>\n      <td>Apple 13-inch MacBook Air with Retina display ...</td>\n      <td>Laptop</td>\n    </tr>\n    <tr>\n      <th>4</th>\n      <td>Apple 13-inch MacBook Pro (1.4GHz quad-core CP...</td>\n      <td>Laptop</td>\n    </tr>\n  </tbody>\n</table>\n</div>"
     },
     "execution_count": 4,
     "metadata": {},
     "output_type": "execute_result"
    }
   ],
   "source": [
    "df = pd.read_csv('../../data/devices-products.csv')\n",
    "df.head()"
   ],
   "metadata": {
    "collapsed": false,
    "ExecuteTime": {
     "end_time": "2024-01-12T10:43:48.044300335Z",
     "start_time": "2024-01-12T10:43:48.035759859Z"
    }
   }
  },
  {
   "cell_type": "code",
   "execution_count": 5,
   "outputs": [
    {
     "data": {
      "text/plain": "Category\nLaptop            452\nMonitor           296\nDesktop           259\nServer             55\nSmartphone         50\nIoT                30\nTablet             22\nThin Client        16\nPrinter            11\nHard drive         11\nGaming              5\nWorkstation         4\nMultimedia          4\nNetwork             4\nEntertainment       2\nConverged Edge      2\nConverged           2\nSAN/NAS             1\nName: count, dtype: int64"
     },
     "execution_count": 5,
     "metadata": {},
     "output_type": "execute_result"
    }
   ],
   "source": [
    "df['Category'].value_counts()"
   ],
   "metadata": {
    "collapsed": false,
    "ExecuteTime": {
     "end_time": "2024-01-12T10:44:47.386256095Z",
     "start_time": "2024-01-12T10:44:47.335136065Z"
    }
   }
  },
  {
   "cell_type": "code",
   "execution_count": 6,
   "outputs": [
    {
     "data": {
      "text/plain": "0.9186991869918699"
     },
     "execution_count": 6,
     "metadata": {},
     "output_type": "execute_result"
    }
   ],
   "source": [
    "x = df['Product'].values\n",
    "y = df['Category'].values\n",
    "\n",
    "x_train, x_test, y_train, y_test = train_test_split(x, y, test_size=0.2, random_state=0)\n",
    "\n",
    "tfidf_vectorizer = TfidfVectorizer()\n",
    "tfidf_train_vectors = tfidf_vectorizer.fit_transform(x_train)\n",
    "tfidf_test_vectors = tfidf_vectorizer.transform(x_test)\n",
    "\n",
    "clf_random_forest = RandomForestClassifier()\n",
    "clf_random_forest.fit(tfidf_train_vectors, y_train)\n",
    "y_pred = clf_random_forest.predict(tfidf_test_vectors)\n",
    "\n",
    "accuracy_score(y_test, y_pred)\n"
   ],
   "metadata": {
    "collapsed": false,
    "ExecuteTime": {
     "end_time": "2024-01-12T10:53:41.540080236Z",
     "start_time": "2024-01-12T10:53:41.305602248Z"
    }
   }
  },
  {
   "cell_type": "code",
   "execution_count": 9,
   "outputs": [
    {
     "data": {
      "text/plain": "0.8577235772357723"
     },
     "execution_count": 9,
     "metadata": {},
     "output_type": "execute_result"
    }
   ],
   "source": [
    "# Other algorithms\n",
    "clf_knn = KNeighborsClassifier(n_neighbors=19)\n",
    "clf_knn.fit(tfidf_train_vectors, y_train)\n",
    "y_knn_pred = clf_knn.predict(tfidf_test_vectors)\n",
    "accuracy_score(y_test, y_knn_pred)"
   ],
   "metadata": {
    "collapsed": false,
    "ExecuteTime": {
     "end_time": "2024-01-12T12:24:02.359934887Z",
     "start_time": "2024-01-12T12:24:02.302453124Z"
    }
   }
  },
  {
   "cell_type": "code",
   "execution_count": 10,
   "outputs": [
    {
     "data": {
      "text/plain": "0.8536585365853658"
     },
     "execution_count": 10,
     "metadata": {},
     "output_type": "execute_result"
    }
   ],
   "source": [
    "clf_nb = MultinomialNB()\n",
    "clf_nb.fit(tfidf_train_vectors, y_train)\n",
    "y_nb_pred = clf_nb.predict(tfidf_test_vectors)\n",
    "accuracy_score(y_test, y_nb_pred)"
   ],
   "metadata": {
    "collapsed": false,
    "ExecuteTime": {
     "end_time": "2024-01-12T12:26:19.071164924Z",
     "start_time": "2024-01-12T12:26:19.032214601Z"
    }
   }
  },
  {
   "cell_type": "code",
   "execution_count": 12,
   "outputs": [
    {
     "data": {
      "text/plain": "0.967479674796748"
     },
     "execution_count": 12,
     "metadata": {},
     "output_type": "execute_result"
    }
   ],
   "source": [
    "clf_svc = LinearSVC(dual=True)\n",
    "clf_svc.fit(tfidf_train_vectors, y_train)\n",
    "y_svc_pred = clf_svc.predict(tfidf_test_vectors)\n",
    "accuracy_score(y_test, y_svc_pred)"
   ],
   "metadata": {
    "collapsed": false,
    "ExecuteTime": {
     "end_time": "2024-01-12T12:28:43.723357804Z",
     "start_time": "2024-01-12T12:28:43.698341697Z"
    }
   }
  },
  {
   "cell_type": "code",
   "execution_count": 13,
   "outputs": [
    {
     "data": {
      "text/plain": "0.9146341463414634"
     },
     "execution_count": 13,
     "metadata": {},
     "output_type": "execute_result"
    }
   ],
   "source": [
    "clf_logreg = LogisticRegression()\n",
    "clf_logreg.fit(tfidf_train_vectors, y_train)\n",
    "y_logreg_pred = clf_logreg.predict(tfidf_test_vectors)\n",
    "accuracy_score(y_test, y_logreg_pred)"
   ],
   "metadata": {
    "collapsed": false,
    "ExecuteTime": {
     "end_time": "2024-01-12T12:30:22.111135638Z",
     "start_time": "2024-01-12T12:30:21.607906397Z"
    }
   }
  },
  {
   "cell_type": "code",
   "execution_count": null,
   "outputs": [],
   "source": [],
   "metadata": {
    "collapsed": false
   }
  }
 ],
 "metadata": {
  "kernelspec": {
   "display_name": "Python 3",
   "language": "python",
   "name": "python3"
  },
  "language_info": {
   "codemirror_mode": {
    "name": "ipython",
    "version": 2
   },
   "file_extension": ".py",
   "mimetype": "text/x-python",
   "name": "python",
   "nbconvert_exporter": "python",
   "pygments_lexer": "ipython2",
   "version": "2.7.6"
  }
 },
 "nbformat": 4,
 "nbformat_minor": 0
}
