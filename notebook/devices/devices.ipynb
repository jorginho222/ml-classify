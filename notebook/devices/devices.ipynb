{
 "cells": [
  {
   "cell_type": "code",
   "execution_count": 20,
   "metadata": {
    "collapsed": true,
    "ExecuteTime": {
     "end_time": "2024-01-11T22:27:24.719086288Z",
     "start_time": "2024-01-11T22:27:24.676460829Z"
    }
   },
   "outputs": [],
   "source": [
    "import pandas as pd\n",
    "from sklearn.model_selection import  train_test_split\n",
    "from sklearn.ensemble import RandomForestClassifier\n",
    "from sklearn.feature_extraction.text import TfidfVectorizer\n",
    "from sklearn.metrics import accuracy_score\n"
   ]
  },
  {
   "cell_type": "code",
   "execution_count": 21,
   "outputs": [
    {
     "data": {
      "text/plain": "(87, 2)"
     },
     "execution_count": 21,
     "metadata": {},
     "output_type": "execute_result"
    }
   ],
   "source": [
    "df = pd.read_csv('../../data/devices-products-small.csv')\n",
    "df.shape"
   ],
   "metadata": {
    "collapsed": false,
    "ExecuteTime": {
     "end_time": "2024-01-11T22:27:25.930649109Z",
     "start_time": "2024-01-11T22:27:25.883612762Z"
    }
   }
  },
  {
   "cell_type": "code",
   "execution_count": 9,
   "outputs": [
    {
     "data": {
      "text/plain": "Category\ncomputers    36\ntablets      29\nphones       22\nName: count, dtype: int64"
     },
     "execution_count": 9,
     "metadata": {},
     "output_type": "execute_result"
    }
   ],
   "source": [
    "df['Category'].value_counts()"
   ],
   "metadata": {
    "collapsed": false,
    "ExecuteTime": {
     "end_time": "2024-01-11T21:46:41.312142154Z",
     "start_time": "2024-01-11T21:46:41.297104583Z"
    }
   }
  },
  {
   "cell_type": "code",
   "execution_count": 15,
   "outputs": [],
   "source": [
    "x = df['Product'].values\n",
    "y = df['Category'].values\n",
    "\n",
    "x_train, x_test, y_train, y_test = train_test_split(x, y)\n",
    "\n",
    "tfidf_vectorizer = TfidfVectorizer()\n",
    "tfidf_train_vectors = tfidf_vectorizer.fit_transform(x_train)\n",
    "tfidf_test_vectors = tfidf_vectorizer.transform(x_test)"
   ],
   "metadata": {
    "collapsed": false,
    "ExecuteTime": {
     "end_time": "2024-01-11T22:21:58.572242940Z",
     "start_time": "2024-01-11T22:21:58.559497338Z"
    }
   }
  },
  {
   "cell_type": "code",
   "execution_count": 16,
   "outputs": [
    {
     "data": {
      "text/plain": "array(['11', '12', '13', '15', '1st', '2006', '2007', '2008', '2009',\n       '2010', '2011', '2012', '2013', '2014', '2015', '2016', '2017',\n       '2018', '2019', '2020', '2021', '2nd', '3rd', '4th', '5th', '6th',\n       '7th', '8th', '9th', 'air', 'early', 'edge', 'four', 'galaxy',\n       'generation', 'ii', 'inch', 'ipad', 'late', 'macbook', 'mid',\n       'mini', 'ports', 'pro', 'retina', 's10', 's20', 's21', 's5', 's6',\n       's7', 's8', 's9', 'samsung', 'thunderbolt', 'two', 'ultra'],\n      dtype=object)"
     },
     "execution_count": 16,
     "metadata": {},
     "output_type": "execute_result"
    }
   ],
   "source": [
    "tokens = tfidf_vectorizer.get_feature_names_out()\n",
    "tokens"
   ],
   "metadata": {
    "collapsed": false,
    "ExecuteTime": {
     "end_time": "2024-01-11T22:22:00.513618050Z",
     "start_time": "2024-01-11T22:22:00.501111099Z"
    }
   }
  },
  {
   "cell_type": "code",
   "execution_count": 13,
   "outputs": [
    {
     "data": {
      "text/plain": "     10   11   12        13   14        15  1st  2006  2007  2008  ...   s4  \\\n0   0.0  0.0  0.0  0.000000  0.0  0.000000  0.0   0.0   0.0   0.0  ...  0.0   \n1   0.0  0.0  0.0  0.000000  0.0  0.000000  0.0   0.0   0.0   0.0  ...  0.0   \n2   0.0  0.0  0.0  0.339070  0.0  0.000000  0.0   0.0   0.0   0.0  ...  0.0   \n3   0.0  0.0  0.0  0.000000  0.0  0.000000  0.0   0.0   0.0   0.0  ...  0.0   \n4   0.0  0.0  0.0  0.000000  0.0  0.000000  0.0   0.0   0.0   0.0  ...  0.0   \n..  ...  ...  ...       ...  ...       ...  ...   ...   ...   ...  ...  ...   \n60  0.0  0.0  0.0  0.319223  0.0  0.000000  0.0   0.0   0.0   0.0  ...  0.0   \n61  0.0  0.0  0.0  0.000000  0.0  0.450849  0.0   0.0   0.0   0.0  ...  0.0   \n62  0.0  0.0  0.0  0.000000  0.0  0.000000  0.0   0.0   0.0   0.0  ...  0.0   \n63  0.0  0.0  0.0  0.317693  0.0  0.000000  0.0   0.0   0.0   0.0  ...  0.0   \n64  0.0  0.0  0.0  0.339070  0.0  0.000000  0.0   0.0   0.0   0.0  ...  0.0   \n\n     s5   s6        s7   s8   s9   samsung  thunderbolt       two  ultra  \n0   0.0  0.0  0.000000  0.0  0.0  0.000000     0.000000  0.000000    0.0  \n1   0.0  0.0  0.000000  0.0  0.0  0.000000     0.000000  0.000000    0.0  \n2   0.0  0.0  0.000000  0.0  0.0  0.000000     0.386574  0.000000    0.0  \n3   0.0  0.0  0.000000  0.0  0.0  0.000000     0.000000  0.000000    0.0  \n4   0.0  0.0  0.000000  0.0  0.0  0.439978     0.000000  0.000000    0.0  \n..  ...  ...       ...  ...  ...       ...          ...       ...    ...  \n60  0.0  0.0  0.000000  0.0  0.0  0.000000     0.363947  0.435435    0.0  \n61  0.0  0.0  0.000000  0.0  0.0  0.000000     0.000000  0.000000    0.0  \n62  0.0  0.0  0.532273  0.0  0.0  0.299153     0.000000  0.000000    0.0  \n63  0.0  0.0  0.000000  0.0  0.0  0.000000     0.362203  0.433348    0.0  \n64  0.0  0.0  0.000000  0.0  0.0  0.000000     0.386574  0.462507    0.0  \n\n[65 rows x 60 columns]",
      "text/html": "<div>\n<style scoped>\n    .dataframe tbody tr th:only-of-type {\n        vertical-align: middle;\n    }\n\n    .dataframe tbody tr th {\n        vertical-align: top;\n    }\n\n    .dataframe thead th {\n        text-align: right;\n    }\n</style>\n<table border=\"1\" class=\"dataframe\">\n  <thead>\n    <tr style=\"text-align: right;\">\n      <th></th>\n      <th>10</th>\n      <th>11</th>\n      <th>12</th>\n      <th>13</th>\n      <th>14</th>\n      <th>15</th>\n      <th>1st</th>\n      <th>2006</th>\n      <th>2007</th>\n      <th>2008</th>\n      <th>...</th>\n      <th>s4</th>\n      <th>s5</th>\n      <th>s6</th>\n      <th>s7</th>\n      <th>s8</th>\n      <th>s9</th>\n      <th>samsung</th>\n      <th>thunderbolt</th>\n      <th>two</th>\n      <th>ultra</th>\n    </tr>\n  </thead>\n  <tbody>\n    <tr>\n      <th>0</th>\n      <td>0.0</td>\n      <td>0.0</td>\n      <td>0.0</td>\n      <td>0.000000</td>\n      <td>0.0</td>\n      <td>0.000000</td>\n      <td>0.0</td>\n      <td>0.0</td>\n      <td>0.0</td>\n      <td>0.0</td>\n      <td>...</td>\n      <td>0.0</td>\n      <td>0.0</td>\n      <td>0.0</td>\n      <td>0.000000</td>\n      <td>0.0</td>\n      <td>0.0</td>\n      <td>0.000000</td>\n      <td>0.000000</td>\n      <td>0.000000</td>\n      <td>0.0</td>\n    </tr>\n    <tr>\n      <th>1</th>\n      <td>0.0</td>\n      <td>0.0</td>\n      <td>0.0</td>\n      <td>0.000000</td>\n      <td>0.0</td>\n      <td>0.000000</td>\n      <td>0.0</td>\n      <td>0.0</td>\n      <td>0.0</td>\n      <td>0.0</td>\n      <td>...</td>\n      <td>0.0</td>\n      <td>0.0</td>\n      <td>0.0</td>\n      <td>0.000000</td>\n      <td>0.0</td>\n      <td>0.0</td>\n      <td>0.000000</td>\n      <td>0.000000</td>\n      <td>0.000000</td>\n      <td>0.0</td>\n    </tr>\n    <tr>\n      <th>2</th>\n      <td>0.0</td>\n      <td>0.0</td>\n      <td>0.0</td>\n      <td>0.339070</td>\n      <td>0.0</td>\n      <td>0.000000</td>\n      <td>0.0</td>\n      <td>0.0</td>\n      <td>0.0</td>\n      <td>0.0</td>\n      <td>...</td>\n      <td>0.0</td>\n      <td>0.0</td>\n      <td>0.0</td>\n      <td>0.000000</td>\n      <td>0.0</td>\n      <td>0.0</td>\n      <td>0.000000</td>\n      <td>0.386574</td>\n      <td>0.000000</td>\n      <td>0.0</td>\n    </tr>\n    <tr>\n      <th>3</th>\n      <td>0.0</td>\n      <td>0.0</td>\n      <td>0.0</td>\n      <td>0.000000</td>\n      <td>0.0</td>\n      <td>0.000000</td>\n      <td>0.0</td>\n      <td>0.0</td>\n      <td>0.0</td>\n      <td>0.0</td>\n      <td>...</td>\n      <td>0.0</td>\n      <td>0.0</td>\n      <td>0.0</td>\n      <td>0.000000</td>\n      <td>0.0</td>\n      <td>0.0</td>\n      <td>0.000000</td>\n      <td>0.000000</td>\n      <td>0.000000</td>\n      <td>0.0</td>\n    </tr>\n    <tr>\n      <th>4</th>\n      <td>0.0</td>\n      <td>0.0</td>\n      <td>0.0</td>\n      <td>0.000000</td>\n      <td>0.0</td>\n      <td>0.000000</td>\n      <td>0.0</td>\n      <td>0.0</td>\n      <td>0.0</td>\n      <td>0.0</td>\n      <td>...</td>\n      <td>0.0</td>\n      <td>0.0</td>\n      <td>0.0</td>\n      <td>0.000000</td>\n      <td>0.0</td>\n      <td>0.0</td>\n      <td>0.439978</td>\n      <td>0.000000</td>\n      <td>0.000000</td>\n      <td>0.0</td>\n    </tr>\n    <tr>\n      <th>...</th>\n      <td>...</td>\n      <td>...</td>\n      <td>...</td>\n      <td>...</td>\n      <td>...</td>\n      <td>...</td>\n      <td>...</td>\n      <td>...</td>\n      <td>...</td>\n      <td>...</td>\n      <td>...</td>\n      <td>...</td>\n      <td>...</td>\n      <td>...</td>\n      <td>...</td>\n      <td>...</td>\n      <td>...</td>\n      <td>...</td>\n      <td>...</td>\n      <td>...</td>\n      <td>...</td>\n    </tr>\n    <tr>\n      <th>60</th>\n      <td>0.0</td>\n      <td>0.0</td>\n      <td>0.0</td>\n      <td>0.319223</td>\n      <td>0.0</td>\n      <td>0.000000</td>\n      <td>0.0</td>\n      <td>0.0</td>\n      <td>0.0</td>\n      <td>0.0</td>\n      <td>...</td>\n      <td>0.0</td>\n      <td>0.0</td>\n      <td>0.0</td>\n      <td>0.000000</td>\n      <td>0.0</td>\n      <td>0.0</td>\n      <td>0.000000</td>\n      <td>0.363947</td>\n      <td>0.435435</td>\n      <td>0.0</td>\n    </tr>\n    <tr>\n      <th>61</th>\n      <td>0.0</td>\n      <td>0.0</td>\n      <td>0.0</td>\n      <td>0.000000</td>\n      <td>0.0</td>\n      <td>0.450849</td>\n      <td>0.0</td>\n      <td>0.0</td>\n      <td>0.0</td>\n      <td>0.0</td>\n      <td>...</td>\n      <td>0.0</td>\n      <td>0.0</td>\n      <td>0.0</td>\n      <td>0.000000</td>\n      <td>0.0</td>\n      <td>0.0</td>\n      <td>0.000000</td>\n      <td>0.000000</td>\n      <td>0.000000</td>\n      <td>0.0</td>\n    </tr>\n    <tr>\n      <th>62</th>\n      <td>0.0</td>\n      <td>0.0</td>\n      <td>0.0</td>\n      <td>0.000000</td>\n      <td>0.0</td>\n      <td>0.000000</td>\n      <td>0.0</td>\n      <td>0.0</td>\n      <td>0.0</td>\n      <td>0.0</td>\n      <td>...</td>\n      <td>0.0</td>\n      <td>0.0</td>\n      <td>0.0</td>\n      <td>0.532273</td>\n      <td>0.0</td>\n      <td>0.0</td>\n      <td>0.299153</td>\n      <td>0.000000</td>\n      <td>0.000000</td>\n      <td>0.0</td>\n    </tr>\n    <tr>\n      <th>63</th>\n      <td>0.0</td>\n      <td>0.0</td>\n      <td>0.0</td>\n      <td>0.317693</td>\n      <td>0.0</td>\n      <td>0.000000</td>\n      <td>0.0</td>\n      <td>0.0</td>\n      <td>0.0</td>\n      <td>0.0</td>\n      <td>...</td>\n      <td>0.0</td>\n      <td>0.0</td>\n      <td>0.0</td>\n      <td>0.000000</td>\n      <td>0.0</td>\n      <td>0.0</td>\n      <td>0.000000</td>\n      <td>0.362203</td>\n      <td>0.433348</td>\n      <td>0.0</td>\n    </tr>\n    <tr>\n      <th>64</th>\n      <td>0.0</td>\n      <td>0.0</td>\n      <td>0.0</td>\n      <td>0.339070</td>\n      <td>0.0</td>\n      <td>0.000000</td>\n      <td>0.0</td>\n      <td>0.0</td>\n      <td>0.0</td>\n      <td>0.0</td>\n      <td>...</td>\n      <td>0.0</td>\n      <td>0.0</td>\n      <td>0.0</td>\n      <td>0.000000</td>\n      <td>0.0</td>\n      <td>0.0</td>\n      <td>0.000000</td>\n      <td>0.386574</td>\n      <td>0.462507</td>\n      <td>0.0</td>\n    </tr>\n  </tbody>\n</table>\n<p>65 rows × 60 columns</p>\n</div>"
     },
     "execution_count": 13,
     "metadata": {},
     "output_type": "execute_result"
    }
   ],
   "source": [
    "pd.DataFrame(data=tfidf_train_vectors.toarray(), columns=tokens)"
   ],
   "metadata": {
    "collapsed": false,
    "ExecuteTime": {
     "end_time": "2024-01-11T22:18:48.926621198Z",
     "start_time": "2024-01-11T22:18:48.885819208Z"
    }
   }
  },
  {
   "cell_type": "code",
   "execution_count": 18,
   "outputs": [
    {
     "data": {
      "text/plain": "                                      product predicted_category real_category\n0                 MacBook Pro (16-inch, 2019)          computers     computers\n1                                   iPad Mini            tablets       tablets\n2   MacBook Pro (Retina, 13-inch, Early 2013)          computers     computers\n3                     MacBook Pro (Late 2012)          computers     computers\n4                 MacBook Pro (14-inch, 2021)          computers     computers\n5             MacBook Pro (15-inch, Mid 2017)          computers     computers\n6                 MacBook Pro (16-inch, 2021)          computers     computers\n7                   Samsung Galaxy S10 (2019)             phones        phones\n8               Samsung Galaxy S7 Edge (2016)             phones        phones\n9                  Samsung Galaxy S10e (2019)             phones        phones\n10                  Samsung Galaxy S8+ (2017)             phones        phones\n11  MacBook Pro (Retina, 15-inch, Early 2013)          computers     computers\n12            Samsung Galaxy S21 Ultra (2021)             phones        phones\n13       iPad Pro (12.9-inch, 5th generation)            tablets       tablets\n14                  Samsung Galaxy S21 (2021)             phones        phones\n15                   MacBook Pro (Early 2011)          computers     computers\n16         iPad Pro (11-inch, 3rd generation)            tablets       tablets\n17                   Samsung Galaxy S4 (2013)             phones        phones\n18                      iPad (4th generation)            tablets       tablets\n19                Samsung Galaxy S III (2012)             phones        phones\n20                     MacBook Pro (Mid 2007)          computers     computers\n21                       iPad Pro (10.5-inch)            tablets       tablets",
      "text/html": "<div>\n<style scoped>\n    .dataframe tbody tr th:only-of-type {\n        vertical-align: middle;\n    }\n\n    .dataframe tbody tr th {\n        vertical-align: top;\n    }\n\n    .dataframe thead th {\n        text-align: right;\n    }\n</style>\n<table border=\"1\" class=\"dataframe\">\n  <thead>\n    <tr style=\"text-align: right;\">\n      <th></th>\n      <th>product</th>\n      <th>predicted_category</th>\n      <th>real_category</th>\n    </tr>\n  </thead>\n  <tbody>\n    <tr>\n      <th>0</th>\n      <td>MacBook Pro (16-inch, 2019)</td>\n      <td>computers</td>\n      <td>computers</td>\n    </tr>\n    <tr>\n      <th>1</th>\n      <td>iPad Mini</td>\n      <td>tablets</td>\n      <td>tablets</td>\n    </tr>\n    <tr>\n      <th>2</th>\n      <td>MacBook Pro (Retina, 13-inch, Early 2013)</td>\n      <td>computers</td>\n      <td>computers</td>\n    </tr>\n    <tr>\n      <th>3</th>\n      <td>MacBook Pro (Late 2012)</td>\n      <td>computers</td>\n      <td>computers</td>\n    </tr>\n    <tr>\n      <th>4</th>\n      <td>MacBook Pro (14-inch, 2021)</td>\n      <td>computers</td>\n      <td>computers</td>\n    </tr>\n    <tr>\n      <th>5</th>\n      <td>MacBook Pro (15-inch, Mid 2017)</td>\n      <td>computers</td>\n      <td>computers</td>\n    </tr>\n    <tr>\n      <th>6</th>\n      <td>MacBook Pro (16-inch, 2021)</td>\n      <td>computers</td>\n      <td>computers</td>\n    </tr>\n    <tr>\n      <th>7</th>\n      <td>Samsung Galaxy S10 (2019)</td>\n      <td>phones</td>\n      <td>phones</td>\n    </tr>\n    <tr>\n      <th>8</th>\n      <td>Samsung Galaxy S7 Edge (2016)</td>\n      <td>phones</td>\n      <td>phones</td>\n    </tr>\n    <tr>\n      <th>9</th>\n      <td>Samsung Galaxy S10e (2019)</td>\n      <td>phones</td>\n      <td>phones</td>\n    </tr>\n    <tr>\n      <th>10</th>\n      <td>Samsung Galaxy S8+ (2017)</td>\n      <td>phones</td>\n      <td>phones</td>\n    </tr>\n    <tr>\n      <th>11</th>\n      <td>MacBook Pro (Retina, 15-inch, Early 2013)</td>\n      <td>computers</td>\n      <td>computers</td>\n    </tr>\n    <tr>\n      <th>12</th>\n      <td>Samsung Galaxy S21 Ultra (2021)</td>\n      <td>phones</td>\n      <td>phones</td>\n    </tr>\n    <tr>\n      <th>13</th>\n      <td>iPad Pro (12.9-inch, 5th generation)</td>\n      <td>tablets</td>\n      <td>tablets</td>\n    </tr>\n    <tr>\n      <th>14</th>\n      <td>Samsung Galaxy S21 (2021)</td>\n      <td>phones</td>\n      <td>phones</td>\n    </tr>\n    <tr>\n      <th>15</th>\n      <td>MacBook Pro (Early 2011)</td>\n      <td>computers</td>\n      <td>computers</td>\n    </tr>\n    <tr>\n      <th>16</th>\n      <td>iPad Pro (11-inch, 3rd generation)</td>\n      <td>tablets</td>\n      <td>tablets</td>\n    </tr>\n    <tr>\n      <th>17</th>\n      <td>Samsung Galaxy S4 (2013)</td>\n      <td>phones</td>\n      <td>phones</td>\n    </tr>\n    <tr>\n      <th>18</th>\n      <td>iPad (4th generation)</td>\n      <td>tablets</td>\n      <td>tablets</td>\n    </tr>\n    <tr>\n      <th>19</th>\n      <td>Samsung Galaxy S III (2012)</td>\n      <td>phones</td>\n      <td>phones</td>\n    </tr>\n    <tr>\n      <th>20</th>\n      <td>MacBook Pro (Mid 2007)</td>\n      <td>computers</td>\n      <td>computers</td>\n    </tr>\n    <tr>\n      <th>21</th>\n      <td>iPad Pro (10.5-inch)</td>\n      <td>tablets</td>\n      <td>tablets</td>\n    </tr>\n  </tbody>\n</table>\n</div>"
     },
     "execution_count": 18,
     "metadata": {},
     "output_type": "execute_result"
    }
   ],
   "source": [
    "clf = RandomForestClassifier()\n",
    "clf.fit(tfidf_train_vectors, y_train)\n",
    "y_pred = clf.predict(tfidf_test_vectors)\n",
    "\n",
    "df_compare = pd.DataFrame(\n",
    "    data={\n",
    "        'product': x_test,\n",
    "        'predicted_category': y_pred,\n",
    "        'real_category': y_test\n",
    "    },\n",
    "    columns=['product', 'predicted_category', 'real_category']\n",
    ")\n",
    "df_compare"
   ],
   "metadata": {
    "collapsed": false,
    "ExecuteTime": {
     "end_time": "2024-01-11T22:25:28.269508745Z",
     "start_time": "2024-01-11T22:25:28.096773857Z"
    }
   }
  },
  {
   "cell_type": "code",
   "execution_count": 34,
   "outputs": [
    {
     "data": {
      "text/plain": "1.0"
     },
     "execution_count": 34,
     "metadata": {},
     "output_type": "execute_result"
    }
   ],
   "source": [
    "accuracy_score(y_test, y_pred)"
   ],
   "metadata": {
    "collapsed": false,
    "ExecuteTime": {
     "end_time": "2024-01-11T22:34:14.664017988Z",
     "start_time": "2024-01-11T22:34:14.646756104Z"
    }
   }
  },
  {
   "cell_type": "code",
   "execution_count": 31,
   "outputs": [
    {
     "data": {
      "text/plain": "array(['phones', 'tablets'], dtype=object)"
     },
     "execution_count": 31,
     "metadata": {},
     "output_type": "execute_result"
    }
   ],
   "source": [
    "future_x_test = tfidf_vectorizer.transform(['Sansun Galaxy S39', 'iPad Future'])\n",
    "\n",
    "future_y_pred = clf.predict(future_x_test)\n",
    "future_y_pred"
   ],
   "metadata": {
    "collapsed": false,
    "ExecuteTime": {
     "end_time": "2024-01-11T22:32:23.474659508Z",
     "start_time": "2024-01-11T22:32:23.458404928Z"
    }
   }
  }
 ],
 "metadata": {
  "kernelspec": {
   "display_name": "Python 3",
   "language": "python",
   "name": "python3"
  },
  "language_info": {
   "codemirror_mode": {
    "name": "ipython",
    "version": 2
   },
   "file_extension": ".py",
   "mimetype": "text/x-python",
   "name": "python",
   "nbconvert_exporter": "python",
   "pygments_lexer": "ipython2",
   "version": "2.7.6"
  }
 },
 "nbformat": 4,
 "nbformat_minor": 0
}
