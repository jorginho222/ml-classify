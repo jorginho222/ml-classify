{
 "cells": [
  {
   "cell_type": "code",
   "execution_count": 3,
   "metadata": {
    "collapsed": true,
    "ExecuteTime": {
     "end_time": "2024-01-12T10:41:35.425148975Z",
     "start_time": "2024-01-12T10:41:34.714915505Z"
    }
   },
   "outputs": [],
   "source": [
    "import pandas as pd\n",
    "from sklearn.model_selection import  train_test_split\n",
    "from sklearn.ensemble import RandomForestClassifier\n",
    "from sklearn.feature_extraction.text import TfidfVectorizer\n",
    "from sklearn.metrics import accuracy_score\n"
   ]
  },
  {
   "cell_type": "code",
   "execution_count": 4,
   "outputs": [
    {
     "data": {
      "text/plain": "(87, 2)"
     },
     "execution_count": 4,
     "metadata": {},
     "output_type": "execute_result"
    }
   ],
   "source": [
    "df = pd.read_csv('../../data/devices-products-small.csv')\n",
    "df.shape"
   ],
   "metadata": {
    "collapsed": false,
    "ExecuteTime": {
     "end_time": "2024-01-12T10:41:35.436825662Z",
     "start_time": "2024-01-12T10:41:35.425637209Z"
    }
   }
  },
  {
   "cell_type": "code",
   "execution_count": 5,
   "outputs": [
    {
     "data": {
      "text/plain": "Category\ncomputers    36\ntablets      29\nphones       22\nName: count, dtype: int64"
     },
     "execution_count": 5,
     "metadata": {},
     "output_type": "execute_result"
    }
   ],
   "source": [
    "df['Category'].value_counts()"
   ],
   "metadata": {
    "collapsed": false,
    "ExecuteTime": {
     "end_time": "2024-01-12T10:41:35.443755681Z",
     "start_time": "2024-01-12T10:41:35.439114537Z"
    }
   }
  },
  {
   "cell_type": "code",
   "execution_count": 6,
   "outputs": [],
   "source": [
    "x = df['Product'].values\n",
    "y = df['Category'].values\n",
    "\n",
    "x_train, x_test, y_train, y_test = train_test_split(x, y)\n",
    "\n",
    "tfidf_vectorizer = TfidfVectorizer()\n",
    "tfidf_train_vectors = tfidf_vectorizer.fit_transform(x_train)\n",
    "tfidf_test_vectors = tfidf_vectorizer.transform(x_test)"
   ],
   "metadata": {
    "collapsed": false,
    "ExecuteTime": {
     "end_time": "2024-01-12T10:41:35.485472570Z",
     "start_time": "2024-01-12T10:41:35.447699770Z"
    }
   }
  },
  {
   "cell_type": "code",
   "execution_count": 7,
   "outputs": [
    {
     "data": {
      "text/plain": "array(['11', '12', '13', '15', '16', '1st', '2006', '2007', '2008',\n       '2009', '2010', '2011', '2012', '2013', '2014', '2015', '2016',\n       '2017', '2018', '2019', '2020', '2021', '2nd', '3rd', '4th', '5th',\n       '6th', '7th', '8th', 'air', 'early', 'edge', 'four', 'galaxy',\n       'generation', 'ii', 'inch', 'ipad', 'late', 'macbook', 'mid',\n       'mini', 'ports', 'pro', 'retina', 's10', 's20', 's21', 's4', 's5',\n       's6', 's7', 's8', 's9', 'samsung', 'thunderbolt', 'two', 'ultra'],\n      dtype=object)"
     },
     "execution_count": 7,
     "metadata": {},
     "output_type": "execute_result"
    }
   ],
   "source": [
    "tokens = tfidf_vectorizer.get_feature_names_out()\n",
    "tokens"
   ],
   "metadata": {
    "collapsed": false,
    "ExecuteTime": {
     "end_time": "2024-01-12T10:41:35.513826827Z",
     "start_time": "2024-01-12T10:41:35.455362646Z"
    }
   }
  },
  {
   "cell_type": "code",
   "execution_count": 8,
   "outputs": [
    {
     "data": {
      "text/plain": "     11   12        13        15       16  1st  2006      2007  2008  2009  \\\n0   0.0  0.0  0.000000  0.000000  0.00000  0.0   0.0  0.774529   0.0   0.0   \n1   0.0  0.0  0.000000  0.000000  0.00000  0.0   0.0  0.000000   0.0   0.0   \n2   0.0  0.0  0.000000  0.000000  0.00000  0.0   0.0  0.000000   0.0   0.0   \n3   0.0  0.0  0.000000  0.452489  0.00000  0.0   0.0  0.000000   0.0   0.0   \n4   0.0  0.0  0.000000  0.000000  0.62464  0.0   0.0  0.000000   0.0   0.0   \n..  ...  ...       ...       ...      ...  ...   ...       ...   ...   ...   \n60  0.0  0.0  0.400206  0.000000  0.00000  0.0   0.0  0.000000   0.0   0.0   \n61  0.0  0.0  0.000000  0.000000  0.00000  0.0   0.0  0.000000   0.0   0.0   \n62  0.0  0.0  0.000000  0.000000  0.00000  0.0   0.0  0.000000   0.0   0.0   \n63  0.0  0.0  0.000000  0.000000  0.00000  0.0   0.0  0.000000   0.0   0.0   \n64  0.0  0.0  0.000000  0.000000  0.00000  0.0   0.0  0.000000   0.0   0.0   \n\n    ...   s4   s5        s6   s7   s8        s9   samsung  thunderbolt  two  \\\n0   ...  0.0  0.0  0.000000  0.0  0.0  0.000000  0.000000          0.0  0.0   \n1   ...  0.0  0.0  0.000000  0.0  0.0  0.000000  0.376387          0.0  0.0   \n2   ...  0.0  0.0  0.000000  0.0  0.0  0.608791  0.359685          0.0  0.0   \n3   ...  0.0  0.0  0.000000  0.0  0.0  0.000000  0.000000          0.0  0.0   \n4   ...  0.0  0.0  0.000000  0.0  0.0  0.000000  0.000000          0.0  0.0   \n..  ...  ...  ...       ...  ...  ...       ...       ...          ...  ...   \n60  ...  0.0  0.0  0.000000  0.0  0.0  0.000000  0.000000          0.0  0.0   \n61  ...  0.0  0.0  0.000000  0.0  0.0  0.000000  0.000000          0.0  0.0   \n62  ...  0.0  0.0  0.000000  0.0  0.0  0.000000  0.000000          0.0  0.0   \n63  ...  0.0  0.0  0.000000  0.0  0.0  0.000000  0.000000          0.0  0.0   \n64  ...  0.0  0.0  0.537293  0.0  0.0  0.000000  0.317443          0.0  0.0   \n\n    ultra  \n0     0.0  \n1     0.0  \n2     0.0  \n3     0.0  \n4     0.0  \n..    ...  \n60    0.0  \n61    0.0  \n62    0.0  \n63    0.0  \n64    0.0  \n\n[65 rows x 58 columns]",
      "text/html": "<div>\n<style scoped>\n    .dataframe tbody tr th:only-of-type {\n        vertical-align: middle;\n    }\n\n    .dataframe tbody tr th {\n        vertical-align: top;\n    }\n\n    .dataframe thead th {\n        text-align: right;\n    }\n</style>\n<table border=\"1\" class=\"dataframe\">\n  <thead>\n    <tr style=\"text-align: right;\">\n      <th></th>\n      <th>11</th>\n      <th>12</th>\n      <th>13</th>\n      <th>15</th>\n      <th>16</th>\n      <th>1st</th>\n      <th>2006</th>\n      <th>2007</th>\n      <th>2008</th>\n      <th>2009</th>\n      <th>...</th>\n      <th>s4</th>\n      <th>s5</th>\n      <th>s6</th>\n      <th>s7</th>\n      <th>s8</th>\n      <th>s9</th>\n      <th>samsung</th>\n      <th>thunderbolt</th>\n      <th>two</th>\n      <th>ultra</th>\n    </tr>\n  </thead>\n  <tbody>\n    <tr>\n      <th>0</th>\n      <td>0.0</td>\n      <td>0.0</td>\n      <td>0.000000</td>\n      <td>0.000000</td>\n      <td>0.00000</td>\n      <td>0.0</td>\n      <td>0.0</td>\n      <td>0.774529</td>\n      <td>0.0</td>\n      <td>0.0</td>\n      <td>...</td>\n      <td>0.0</td>\n      <td>0.0</td>\n      <td>0.000000</td>\n      <td>0.0</td>\n      <td>0.0</td>\n      <td>0.000000</td>\n      <td>0.000000</td>\n      <td>0.0</td>\n      <td>0.0</td>\n      <td>0.0</td>\n    </tr>\n    <tr>\n      <th>1</th>\n      <td>0.0</td>\n      <td>0.0</td>\n      <td>0.000000</td>\n      <td>0.000000</td>\n      <td>0.00000</td>\n      <td>0.0</td>\n      <td>0.0</td>\n      <td>0.000000</td>\n      <td>0.0</td>\n      <td>0.0</td>\n      <td>...</td>\n      <td>0.0</td>\n      <td>0.0</td>\n      <td>0.000000</td>\n      <td>0.0</td>\n      <td>0.0</td>\n      <td>0.000000</td>\n      <td>0.376387</td>\n      <td>0.0</td>\n      <td>0.0</td>\n      <td>0.0</td>\n    </tr>\n    <tr>\n      <th>2</th>\n      <td>0.0</td>\n      <td>0.0</td>\n      <td>0.000000</td>\n      <td>0.000000</td>\n      <td>0.00000</td>\n      <td>0.0</td>\n      <td>0.0</td>\n      <td>0.000000</td>\n      <td>0.0</td>\n      <td>0.0</td>\n      <td>...</td>\n      <td>0.0</td>\n      <td>0.0</td>\n      <td>0.000000</td>\n      <td>0.0</td>\n      <td>0.0</td>\n      <td>0.608791</td>\n      <td>0.359685</td>\n      <td>0.0</td>\n      <td>0.0</td>\n      <td>0.0</td>\n    </tr>\n    <tr>\n      <th>3</th>\n      <td>0.0</td>\n      <td>0.0</td>\n      <td>0.000000</td>\n      <td>0.452489</td>\n      <td>0.00000</td>\n      <td>0.0</td>\n      <td>0.0</td>\n      <td>0.000000</td>\n      <td>0.0</td>\n      <td>0.0</td>\n      <td>...</td>\n      <td>0.0</td>\n      <td>0.0</td>\n      <td>0.000000</td>\n      <td>0.0</td>\n      <td>0.0</td>\n      <td>0.000000</td>\n      <td>0.000000</td>\n      <td>0.0</td>\n      <td>0.0</td>\n      <td>0.0</td>\n    </tr>\n    <tr>\n      <th>4</th>\n      <td>0.0</td>\n      <td>0.0</td>\n      <td>0.000000</td>\n      <td>0.000000</td>\n      <td>0.62464</td>\n      <td>0.0</td>\n      <td>0.0</td>\n      <td>0.000000</td>\n      <td>0.0</td>\n      <td>0.0</td>\n      <td>...</td>\n      <td>0.0</td>\n      <td>0.0</td>\n      <td>0.000000</td>\n      <td>0.0</td>\n      <td>0.0</td>\n      <td>0.000000</td>\n      <td>0.000000</td>\n      <td>0.0</td>\n      <td>0.0</td>\n      <td>0.0</td>\n    </tr>\n    <tr>\n      <th>...</th>\n      <td>...</td>\n      <td>...</td>\n      <td>...</td>\n      <td>...</td>\n      <td>...</td>\n      <td>...</td>\n      <td>...</td>\n      <td>...</td>\n      <td>...</td>\n      <td>...</td>\n      <td>...</td>\n      <td>...</td>\n      <td>...</td>\n      <td>...</td>\n      <td>...</td>\n      <td>...</td>\n      <td>...</td>\n      <td>...</td>\n      <td>...</td>\n      <td>...</td>\n      <td>...</td>\n    </tr>\n    <tr>\n      <th>60</th>\n      <td>0.0</td>\n      <td>0.0</td>\n      <td>0.400206</td>\n      <td>0.000000</td>\n      <td>0.00000</td>\n      <td>0.0</td>\n      <td>0.0</td>\n      <td>0.000000</td>\n      <td>0.0</td>\n      <td>0.0</td>\n      <td>...</td>\n      <td>0.0</td>\n      <td>0.0</td>\n      <td>0.000000</td>\n      <td>0.0</td>\n      <td>0.0</td>\n      <td>0.000000</td>\n      <td>0.000000</td>\n      <td>0.0</td>\n      <td>0.0</td>\n      <td>0.0</td>\n    </tr>\n    <tr>\n      <th>61</th>\n      <td>0.0</td>\n      <td>0.0</td>\n      <td>0.000000</td>\n      <td>0.000000</td>\n      <td>0.00000</td>\n      <td>0.0</td>\n      <td>0.0</td>\n      <td>0.000000</td>\n      <td>0.0</td>\n      <td>0.0</td>\n      <td>...</td>\n      <td>0.0</td>\n      <td>0.0</td>\n      <td>0.000000</td>\n      <td>0.0</td>\n      <td>0.0</td>\n      <td>0.000000</td>\n      <td>0.000000</td>\n      <td>0.0</td>\n      <td>0.0</td>\n      <td>0.0</td>\n    </tr>\n    <tr>\n      <th>62</th>\n      <td>0.0</td>\n      <td>0.0</td>\n      <td>0.000000</td>\n      <td>0.000000</td>\n      <td>0.00000</td>\n      <td>0.0</td>\n      <td>0.0</td>\n      <td>0.000000</td>\n      <td>0.0</td>\n      <td>0.0</td>\n      <td>...</td>\n      <td>0.0</td>\n      <td>0.0</td>\n      <td>0.000000</td>\n      <td>0.0</td>\n      <td>0.0</td>\n      <td>0.000000</td>\n      <td>0.000000</td>\n      <td>0.0</td>\n      <td>0.0</td>\n      <td>0.0</td>\n    </tr>\n    <tr>\n      <th>63</th>\n      <td>0.0</td>\n      <td>0.0</td>\n      <td>0.000000</td>\n      <td>0.000000</td>\n      <td>0.00000</td>\n      <td>0.0</td>\n      <td>0.0</td>\n      <td>0.000000</td>\n      <td>0.0</td>\n      <td>0.0</td>\n      <td>...</td>\n      <td>0.0</td>\n      <td>0.0</td>\n      <td>0.000000</td>\n      <td>0.0</td>\n      <td>0.0</td>\n      <td>0.000000</td>\n      <td>0.000000</td>\n      <td>0.0</td>\n      <td>0.0</td>\n      <td>0.0</td>\n    </tr>\n    <tr>\n      <th>64</th>\n      <td>0.0</td>\n      <td>0.0</td>\n      <td>0.000000</td>\n      <td>0.000000</td>\n      <td>0.00000</td>\n      <td>0.0</td>\n      <td>0.0</td>\n      <td>0.000000</td>\n      <td>0.0</td>\n      <td>0.0</td>\n      <td>...</td>\n      <td>0.0</td>\n      <td>0.0</td>\n      <td>0.537293</td>\n      <td>0.0</td>\n      <td>0.0</td>\n      <td>0.000000</td>\n      <td>0.317443</td>\n      <td>0.0</td>\n      <td>0.0</td>\n      <td>0.0</td>\n    </tr>\n  </tbody>\n</table>\n<p>65 rows × 58 columns</p>\n</div>"
     },
     "execution_count": 8,
     "metadata": {},
     "output_type": "execute_result"
    }
   ],
   "source": [
    "pd.DataFrame(data=tfidf_train_vectors.toarray(), columns=tokens)"
   ],
   "metadata": {
    "collapsed": false,
    "ExecuteTime": {
     "end_time": "2024-01-12T10:41:35.515268862Z",
     "start_time": "2024-01-12T10:41:35.502899354Z"
    }
   }
  },
  {
   "cell_type": "code",
   "execution_count": 9,
   "outputs": [
    {
     "data": {
      "text/plain": "                                              product predicted_category  \\\n0                            Samsung Galaxy S7 (2016)             phones   \n1                           Samsung Galaxy S21 (2021)             phones   \n2                                         iPad Mini 4            tablets   \n3                               iPad (9th generation)            tablets   \n4                         Samsung Galaxy S III (2012)             phones   \n5                  iPad Pro (11-inch, 3rd generation)            tablets   \n6                                iPad Pro (10.5-inch)            tablets   \n7                          Samsung Galaxy S21+ (2021)             phones   \n8            MacBook Pro (Retina, 13-inch, Late 2012)          computers   \n9                iPad Pro (12.9-inch, 3rd generation)            tablets   \n10                            MacBook Pro (Late 2007)          computers   \n11                          Samsung Galaxy S20 (2020)             phones   \n12                            MacBook Pro (Late 2006)          computers   \n13                              iPad (5th generation)            tablets   \n14                         Samsung Galaxy S10e (2019)             phones   \n15                          iPad Air (3rd generation)            tablets   \n16                        MacBook Pro (14-inch, 2021)          computers   \n17            MacBook Pro (Retina, 15-inch, Mid 2012)          computers   \n18          MacBook Pro (Retina, 13-inch, Early 2013)          computers   \n19  MacBook Pro (13-inch, 2019, Four Thunderbolt 3...          computers   \n20                                        iPad Mini 2            tablets   \n21                           Samsung Galaxy S8 (2017)             phones   \n\n   real_category  \n0         phones  \n1         phones  \n2        tablets  \n3        tablets  \n4         phones  \n5        tablets  \n6        tablets  \n7         phones  \n8      computers  \n9        tablets  \n10     computers  \n11        phones  \n12     computers  \n13       tablets  \n14        phones  \n15       tablets  \n16     computers  \n17     computers  \n18     computers  \n19     computers  \n20       tablets  \n21        phones  ",
      "text/html": "<div>\n<style scoped>\n    .dataframe tbody tr th:only-of-type {\n        vertical-align: middle;\n    }\n\n    .dataframe tbody tr th {\n        vertical-align: top;\n    }\n\n    .dataframe thead th {\n        text-align: right;\n    }\n</style>\n<table border=\"1\" class=\"dataframe\">\n  <thead>\n    <tr style=\"text-align: right;\">\n      <th></th>\n      <th>product</th>\n      <th>predicted_category</th>\n      <th>real_category</th>\n    </tr>\n  </thead>\n  <tbody>\n    <tr>\n      <th>0</th>\n      <td>Samsung Galaxy S7 (2016)</td>\n      <td>phones</td>\n      <td>phones</td>\n    </tr>\n    <tr>\n      <th>1</th>\n      <td>Samsung Galaxy S21 (2021)</td>\n      <td>phones</td>\n      <td>phones</td>\n    </tr>\n    <tr>\n      <th>2</th>\n      <td>iPad Mini 4</td>\n      <td>tablets</td>\n      <td>tablets</td>\n    </tr>\n    <tr>\n      <th>3</th>\n      <td>iPad (9th generation)</td>\n      <td>tablets</td>\n      <td>tablets</td>\n    </tr>\n    <tr>\n      <th>4</th>\n      <td>Samsung Galaxy S III (2012)</td>\n      <td>phones</td>\n      <td>phones</td>\n    </tr>\n    <tr>\n      <th>5</th>\n      <td>iPad Pro (11-inch, 3rd generation)</td>\n      <td>tablets</td>\n      <td>tablets</td>\n    </tr>\n    <tr>\n      <th>6</th>\n      <td>iPad Pro (10.5-inch)</td>\n      <td>tablets</td>\n      <td>tablets</td>\n    </tr>\n    <tr>\n      <th>7</th>\n      <td>Samsung Galaxy S21+ (2021)</td>\n      <td>phones</td>\n      <td>phones</td>\n    </tr>\n    <tr>\n      <th>8</th>\n      <td>MacBook Pro (Retina, 13-inch, Late 2012)</td>\n      <td>computers</td>\n      <td>computers</td>\n    </tr>\n    <tr>\n      <th>9</th>\n      <td>iPad Pro (12.9-inch, 3rd generation)</td>\n      <td>tablets</td>\n      <td>tablets</td>\n    </tr>\n    <tr>\n      <th>10</th>\n      <td>MacBook Pro (Late 2007)</td>\n      <td>computers</td>\n      <td>computers</td>\n    </tr>\n    <tr>\n      <th>11</th>\n      <td>Samsung Galaxy S20 (2020)</td>\n      <td>phones</td>\n      <td>phones</td>\n    </tr>\n    <tr>\n      <th>12</th>\n      <td>MacBook Pro (Late 2006)</td>\n      <td>computers</td>\n      <td>computers</td>\n    </tr>\n    <tr>\n      <th>13</th>\n      <td>iPad (5th generation)</td>\n      <td>tablets</td>\n      <td>tablets</td>\n    </tr>\n    <tr>\n      <th>14</th>\n      <td>Samsung Galaxy S10e (2019)</td>\n      <td>phones</td>\n      <td>phones</td>\n    </tr>\n    <tr>\n      <th>15</th>\n      <td>iPad Air (3rd generation)</td>\n      <td>tablets</td>\n      <td>tablets</td>\n    </tr>\n    <tr>\n      <th>16</th>\n      <td>MacBook Pro (14-inch, 2021)</td>\n      <td>computers</td>\n      <td>computers</td>\n    </tr>\n    <tr>\n      <th>17</th>\n      <td>MacBook Pro (Retina, 15-inch, Mid 2012)</td>\n      <td>computers</td>\n      <td>computers</td>\n    </tr>\n    <tr>\n      <th>18</th>\n      <td>MacBook Pro (Retina, 13-inch, Early 2013)</td>\n      <td>computers</td>\n      <td>computers</td>\n    </tr>\n    <tr>\n      <th>19</th>\n      <td>MacBook Pro (13-inch, 2019, Four Thunderbolt 3...</td>\n      <td>computers</td>\n      <td>computers</td>\n    </tr>\n    <tr>\n      <th>20</th>\n      <td>iPad Mini 2</td>\n      <td>tablets</td>\n      <td>tablets</td>\n    </tr>\n    <tr>\n      <th>21</th>\n      <td>Samsung Galaxy S8 (2017)</td>\n      <td>phones</td>\n      <td>phones</td>\n    </tr>\n  </tbody>\n</table>\n</div>"
     },
     "execution_count": 9,
     "metadata": {},
     "output_type": "execute_result"
    }
   ],
   "source": [
    "clf = RandomForestClassifier()\n",
    "clf.fit(tfidf_train_vectors, y_train)\n",
    "y_pred = clf.predict(tfidf_test_vectors)\n",
    "\n",
    "df_compare = pd.DataFrame(\n",
    "    data={\n",
    "        'product': x_test,\n",
    "        'predicted_category': y_pred,\n",
    "        'real_category': y_test\n",
    "    },\n",
    "    columns=['product', 'predicted_category', 'real_category']\n",
    ")\n",
    "df_compare"
   ],
   "metadata": {
    "collapsed": false,
    "ExecuteTime": {
     "end_time": "2024-01-12T10:41:35.626263297Z",
     "start_time": "2024-01-12T10:41:35.550587938Z"
    }
   }
  },
  {
   "cell_type": "code",
   "execution_count": 10,
   "outputs": [
    {
     "data": {
      "text/plain": "1.0"
     },
     "execution_count": 10,
     "metadata": {},
     "output_type": "execute_result"
    }
   ],
   "source": [
    "accuracy_score(y_test, y_pred)"
   ],
   "metadata": {
    "collapsed": false,
    "ExecuteTime": {
     "end_time": "2024-01-12T10:41:35.668523878Z",
     "start_time": "2024-01-12T10:41:35.600158300Z"
    }
   }
  },
  {
   "cell_type": "code",
   "execution_count": 11,
   "outputs": [
    {
     "data": {
      "text/plain": "array(['phones', 'tablets'], dtype=object)"
     },
     "execution_count": 11,
     "metadata": {},
     "output_type": "execute_result"
    }
   ],
   "source": [
    "future_x_test = tfidf_vectorizer.transform(['Sansun Galaxy S39', 'iPed Future'])\n",
    "\n",
    "future_y_pred = clf.predict(future_x_test)\n",
    "future_y_pred"
   ],
   "metadata": {
    "collapsed": false,
    "ExecuteTime": {
     "end_time": "2024-01-12T10:41:35.668958943Z",
     "start_time": "2024-01-12T10:41:35.647148044Z"
    }
   }
  }
 ],
 "metadata": {
  "kernelspec": {
   "display_name": "Python 3",
   "language": "python",
   "name": "python3"
  },
  "language_info": {
   "codemirror_mode": {
    "name": "ipython",
    "version": 2
   },
   "file_extension": ".py",
   "mimetype": "text/x-python",
   "name": "python",
   "nbconvert_exporter": "python",
   "pygments_lexer": "ipython2",
   "version": "2.7.6"
  }
 },
 "nbformat": 4,
 "nbformat_minor": 0
}
